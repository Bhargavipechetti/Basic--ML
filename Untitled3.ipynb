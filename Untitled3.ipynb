{
  "nbformat": 4,
  "nbformat_minor": 0,
  "metadata": {
    "colab": {
      "name": "Untitled3.ipynb",
      "provenance": [],
      "authorship_tag": "ABX9TyMnEFT3hV1p+fRDfPgN34LS",
      "include_colab_link": true
    },
    "kernelspec": {
      "name": "python3",
      "display_name": "Python 3"
    },
    "language_info": {
      "name": "python"
    }
  },
  "cells": [
    {
      "cell_type": "markdown",
      "metadata": {
        "id": "view-in-github",
        "colab_type": "text"
      },
      "source": [
        "<a href=\"https://colab.research.google.com/github/Bhargavipechetti/Basic--ML/blob/main/Untitled3.ipynb\" target=\"_parent\"><img src=\"https://colab.research.google.com/assets/colab-badge.svg\" alt=\"Open In Colab\"/></a>"
      ]
    },
    {
      "cell_type": "markdown",
      "metadata": {
        "id": "qPvbavEqTJ6L"
      },
      "source": [
        "1. Python program to check whether the given number is even or odd."
      ]
    },
    {
      "cell_type": "code",
      "metadata": {
        "colab": {
          "base_uri": "https://localhost:8080/"
        },
        "id": "esMRMpY0TvN2",
        "outputId": "6f95d80e-fc3b-4cf1-a386-75d55112e452"
      },
      "source": [
        "n=int(input(\"enter the number\"))\n",
        "if n%2==0:\n",
        "    print(n,\"is an even number\")\n",
        "else:\n",
        "    print(n,\"is an odd number\")"
      ],
      "execution_count": null,
      "outputs": [
        {
          "output_type": "stream",
          "text": [
            "enter the number8\n",
            "8 is an even number\n"
          ],
          "name": "stdout"
        }
      ]
    },
    {
      "cell_type": "markdown",
      "metadata": {
        "id": "066swvQ2T7p4"
      },
      "source": [
        "2. Python program to find the sum of the digits in a number."
      ]
    },
    {
      "cell_type": "code",
      "metadata": {
        "colab": {
          "base_uri": "https://localhost:8080/"
        },
        "id": "0g8gEEOTUSyH",
        "outputId": "ee58f8cb-c6c6-498b-e02f-ea9d70b7cfd5"
      },
      "source": [
        "n=int(input(\"enter the n value\"))\n",
        "sum=0\n",
        "while(n>0):\n",
        "        r=n%10\n",
        "        sum=sum+r\n",
        "        n=n//10\n",
        "print(\"sum of digits in a number\",sum)"
      ],
      "execution_count": null,
      "outputs": [
        {
          "output_type": "stream",
          "text": [
            "enter the n value33\n",
            "sum of digits in a number 6\n"
          ],
          "name": "stdout"
        }
      ]
    },
    {
      "cell_type": "markdown",
      "metadata": {
        "id": "jK6-TBUGVM44"
      },
      "source": [
        "3. Python program to find the factorial of a number."
      ]
    },
    {
      "cell_type": "code",
      "metadata": {
        "colab": {
          "base_uri": "https://localhost:8080/"
        },
        "id": "BOKAXwwaVbP7",
        "outputId": "48244c05-23e1-450d-8424-ac0ed65550bb"
      },
      "source": [
        "n=int(input(\"enter the number\"))\n",
        "fact=1\n",
        "for i in range(1,n+1):\n",
        "        fact=fact*i\n",
        "print(\"factorial=\",fact)\n"
      ],
      "execution_count": null,
      "outputs": [
        {
          "output_type": "stream",
          "text": [
            "enter the number5\n",
            "factorial= 120\n"
          ],
          "name": "stdout"
        }
      ]
    }
  ]
}